{
 "cells": [
  {
   "cell_type": "code",
   "execution_count": 2,
   "metadata": {
    "collapsed": true
   },
   "outputs": [],
   "source": [
    "import pandas as pd\n",
    "potres=pd.read_csv('potresi.csv')\n",
    "pd.options.display.max_rows=20"
   ]
  },
  {
   "cell_type": "code",
   "execution_count": 3,
   "metadata": {
    "collapsed": true
   },
   "outputs": [],
   "source": [
    "#za grafe moramo uporabiti še\n",
    "import matplotlib.pyplot as plt\n",
    "%matplotlib inline\n",
    "import numpy as np"
   ]
  },
  {
   "cell_type": "code",
   "execution_count": 4,
   "metadata": {
    "collapsed": false
   },
   "outputs": [
    {
     "data": {
      "text/html": [
       "<div>\n",
       "<table border=\"1\" class=\"dataframe\">\n",
       "  <thead>\n",
       "    <tr style=\"text-align: right;\">\n",
       "      <th></th>\n",
       "      <th>magnituda</th>\n",
       "      <th>drzava</th>\n",
       "    </tr>\n",
       "  </thead>\n",
       "  <tbody>\n",
       "    <tr>\n",
       "      <th>2867</th>\n",
       "      <td>7.8</td>\n",
       "      <td>IRAN-PAKISTAN BORDER REGION</td>\n",
       "    </tr>\n",
       "  </tbody>\n",
       "</table>\n",
       "</div>"
      ],
      "text/plain": [
       "      magnituda                       drzava\n",
       "2867        7.8  IRAN-PAKISTAN BORDER REGION"
      ]
     },
     "execution_count": 4,
     "metadata": {},
     "output_type": "execute_result"
    }
   ],
   "source": [
    "#vrne dva stolpca - magnitudo in državo\n",
    "stolpcaMD=potres[['magnituda','drzava']]\n",
    "#vrne tabelo s potresi, ki imajo magnitudo višjo ali enako od 6\n",
    "vec6M=stolpcaMD[stolpcaMD.magnituda>=6]\n",
    "#magnitude razporejene od najmanjše do največje\n",
    "urejenoM=vec6M.sort_values('magnituda')\n",
    "#vrne zadnjega v tabeli\n",
    "urejenoM.tail(1)"
   ]
  },
  {
   "cell_type": "markdown",
   "metadata": {},
   "source": [
    "potres z najvišjo magnitudo, (kar je bilo vzetih podatkov) je potres 2867"
   ]
  },
  {
   "cell_type": "code",
   "execution_count": 5,
   "metadata": {
    "collapsed": false
   },
   "outputs": [
    {
     "data": {
      "text/plain": [
       "id                                312831\n",
       "leto                                2013\n",
       "mesec                                  4\n",
       "dan                                   16\n",
       "ura                             10:44:20\n",
       "drzava       IRAN-PAKISTAN BORDER REGION\n",
       "sirina                             28.14\n",
       "dolzina                            62.08\n",
       "globina                               87\n",
       "magnituda                            7.8\n",
       "Name: 2867, dtype: object"
      ]
     },
     "execution_count": 5,
     "metadata": {},
     "output_type": "execute_result"
    }
   ],
   "source": [
    "potres.iloc[2867]"
   ]
  },
  {
   "cell_type": "code",
   "execution_count": 6,
   "metadata": {
    "collapsed": false
   },
   "outputs": [
    {
     "data": {
      "text/plain": [
       "leto\n",
       "2013     827\n",
       "2014    1094\n",
       "2015     667\n",
       "2016     521\n",
       "Name: drzava, dtype: int64"
      ]
     },
     "execution_count": 6,
     "metadata": {},
     "output_type": "execute_result"
    }
   ],
   "source": [
    "#združi vse potrese, ki so bili istega leta\n",
    "potres_leto=potres.groupby('leto')\n",
    "#vrne tabelo s preštetimi lastnostmi na leto (število potresov v enem letu)\n",
    "stevilo=potres_leto.count()\n",
    "#posebni stolpec za drzavo\n",
    "stevilo['drzava']"
   ]
  },
  {
   "cell_type": "markdown",
   "metadata": {},
   "source": [
    "po razpredelnici vidimo, da je bilo največ potresov leta 2014 (kar je bilo vzetih podatkov)"
   ]
  },
  {
   "cell_type": "code",
   "execution_count": 7,
   "metadata": {
    "collapsed": false
   },
   "outputs": [
    {
     "data": {
      "text/plain": [
       "<matplotlib.axes._subplots.AxesSubplot at 0x2bef890>"
      ]
     },
     "execution_count": 7,
     "metadata": {},
     "output_type": "execute_result"
    },
    {
     "data": {
      "image/png": "[encoded data removed]",
      "text/plain": [
       "<matplotlib.figure.Figure at 0x2bef4b0>"
      ]
     },
     "metadata": {},
     "output_type": "display_data"
    }
   ],
   "source": [
    "#graf potresov na leto\n",
    "leto=stevilo['drzava']\n",
    "leto.plot(kind='bar')"
   ]
  },
  {
   "cell_type": "code",
   "execution_count": 8,
   "metadata": {
    "collapsed": false
   },
   "outputs": [
    {
     "data": {
      "text/html": [
       "<div>\n",
       "<table border=\"1\" class=\"dataframe\">\n",
       "  <thead>\n",
       "    <tr style=\"text-align: right;\">\n",
       "      <th></th>\n",
       "      <th>id</th>\n",
       "      <th>leto</th>\n",
       "      <th>mesec</th>\n",
       "      <th>dan</th>\n",
       "      <th>ura</th>\n",
       "      <th>drzava</th>\n",
       "      <th>sirina</th>\n",
       "      <th>dolzina</th>\n",
       "      <th>globina</th>\n",
       "      <th>magnituda</th>\n",
       "    </tr>\n",
       "  </thead>\n",
       "  <tbody>\n",
       "    <tr>\n",
       "      <th>1959</th>\n",
       "      <td>379935</td>\n",
       "      <td>2014</td>\n",
       "      <td>5</td>\n",
       "      <td>24</td>\n",
       "      <td>09:25:02</td>\n",
       "      <td>AEGEAN SEA</td>\n",
       "      <td>40.29</td>\n",
       "      <td>25.4</td>\n",
       "      <td>27</td>\n",
       "      <td>6.9</td>\n",
       "    </tr>\n",
       "  </tbody>\n",
       "</table>\n",
       "</div>"
      ],
      "text/plain": [
       "          id  leto  mesec  dan       ura      drzava  sirina  dolzina  \\\n",
       "1959  379935  2014      5   24  09:25:02  AEGEAN SEA   40.29     25.4   \n",
       "\n",
       "      globina  magnituda  \n",
       "1959       27        6.9  "
      ]
     },
     "execution_count": 8,
     "metadata": {},
     "output_type": "execute_result"
    }
   ],
   "source": [
    "#vrne tabelo s potresi, ki so se zgodili 2014\n",
    "tabela2014=potres[potres.leto==2014]\n",
    "#vrne tabelo s potresi, ki imajo magnitudo višjo ali enako od 6 v letu 2014\n",
    "vecje6=tabela2014[tabela2014.magnituda>=6]\n",
    "#magnitude razporejene od najmanjše do največje\n",
    "urejeno2014=vecje6.sort_values('magnituda')\n",
    "#vrne zadnjega v tabeli\n",
    "urejeno2014.tail(1)"
   ]
  },
  {
   "cell_type": "markdown",
   "metadata": {},
   "source": [
    "najmočnejši potres v letu 2014 je bil z magnitudo 6.9\n",
    "njegovi podatki:"
   ]
  },
  {
   "cell_type": "code",
   "execution_count": 9,
   "metadata": {
    "collapsed": false
   },
   "outputs": [
    {
     "data": {
      "text/plain": [
       "id               379935\n",
       "leto               2014\n",
       "mesec                 5\n",
       "dan                  24\n",
       "ura            09:25:02\n",
       "drzava       AEGEAN SEA\n",
       "sirina            40.29\n",
       "dolzina            25.4\n",
       "globina              27\n",
       "magnituda           6.9\n",
       "Name: 1959, dtype: object"
      ]
     },
     "execution_count": 9,
     "metadata": {},
     "output_type": "execute_result"
    }
   ],
   "source": [
    "potres.iloc[1959]"
   ]
  },
  {
   "cell_type": "code",
   "execution_count": 10,
   "metadata": {
    "collapsed": false
   },
   "outputs": [
    {
     "data": {
      "text/plain": [
       "mesec\n",
       "1     278\n",
       "2     209\n",
       "3     225\n",
       "4     307\n",
       "5     318\n",
       "6     232\n",
       "7     218\n",
       "8     294\n",
       "9     252\n",
       "10    351\n",
       "11    247\n",
       "12    178\n",
       "Name: drzava, dtype: int64"
      ]
     },
     "execution_count": 10,
     "metadata": {},
     "output_type": "execute_result"
    }
   ],
   "source": [
    "#združi vse potrese, ki so bili istega meseca\n",
    "potres_mesec=potres.groupby('mesec')\n",
    "#vrne tabelo s preštetimi lastnostmi na mesec (število potresov v enem mesecu)\n",
    "steviloM=potres_mesec.count()\n",
    "#posebni stolpec za drzavo\n",
    "steviloM['drzava']"
   ]
  },
  {
   "cell_type": "code",
   "execution_count": 11,
   "metadata": {
    "collapsed": false
   },
   "outputs": [
    {
     "data": {
      "text/plain": [
       "<matplotlib.axes._subplots.AxesSubplot at 0x2c63290>"
      ]
     },
     "execution_count": 11,
     "metadata": {},
     "output_type": "execute_result"
    },
    {
     "data": {
      "image/png": "[encoded data removed]",
      "text/plain": [
       "<matplotlib.figure.Figure at 0x2c75310>"
      ]
     },
     "metadata": {},
     "output_type": "display_data"
    }
   ],
   "source": [
    "#graf potresov na mesec\n",
    "letoM=steviloM['drzava']\n",
    "letoM.plot(kind='bar')"
   ]
  },
  {
   "cell_type": "code",
   "execution_count": 12,
   "metadata": {
    "collapsed": false
   },
   "outputs": [
    {
     "data": {
      "text/html": [
       "<div>\n",
       "<table border=\"1\" class=\"dataframe\">\n",
       "  <thead>\n",
       "    <tr style=\"text-align: right;\">\n",
       "      <th></th>\n",
       "      <th>id</th>\n",
       "      <th>leto</th>\n",
       "      <th>mesec</th>\n",
       "      <th>dan</th>\n",
       "      <th>ura</th>\n",
       "      <th>drzava</th>\n",
       "      <th>sirina</th>\n",
       "      <th>dolzina</th>\n",
       "      <th>globina</th>\n",
       "      <th>magnituda</th>\n",
       "    </tr>\n",
       "  </thead>\n",
       "  <tbody>\n",
       "    <tr>\n",
       "      <th>21</th>\n",
       "      <td>540796</td>\n",
       "      <td>2016</td>\n",
       "      <td>10</td>\n",
       "      <td>30</td>\n",
       "      <td>06:40:18</td>\n",
       "      <td>CENTRAL ITALY</td>\n",
       "      <td>42.84</td>\n",
       "      <td>13.11</td>\n",
       "      <td>10</td>\n",
       "      <td>6.5</td>\n",
       "    </tr>\n",
       "  </tbody>\n",
       "</table>\n",
       "</div>"
      ],
      "text/plain": [
       "        id  leto  mesec  dan       ura         drzava  sirina  dolzina  \\\n",
       "21  540796  2016     10   30  06:40:18  CENTRAL ITALY   42.84    13.11   \n",
       "\n",
       "    globina  magnituda  \n",
       "21       10        6.5  "
      ]
     },
     "execution_count": 12,
     "metadata": {},
     "output_type": "execute_result"
    }
   ],
   "source": [
    "#vrne tabelo s potresi, ki so se zgodili oktobra\n",
    "tabelaOKT=potres[potres.mesec==10]\n",
    "#vrne tabelo s potresi, ki imajo magnitudo višjo ali enako od 6 v mesecu oktobru\n",
    "vec6okt=tabelaOKT[tabelaOKT.magnituda>=6]\n",
    "#magnitude razporejene od najmanjše do največje\n",
    "urejenoOKT=vec6okt.sort_values('magnituda')\n",
    "#vrne zadnjega v tabeli\n",
    "urejenoOKT.tail(1)"
   ]
  },
  {
   "cell_type": "markdown",
   "metadata": {},
   "source": [
    "najmočnejši potres v oktobru je bil letos z magnitudo 6.5"
   ]
  },
  {
   "cell_type": "markdown",
   "metadata": {},
   "source": [
    "po prejšnji razpredelnici vidimo, da je bilo največ potresov meseca oktobra"
   ]
  },
  {
   "cell_type": "code",
   "execution_count": 13,
   "metadata": {
    "collapsed": false
   },
   "outputs": [
    {
     "data": {
      "text/plain": [
       "drzava\n",
       "ADRIATIC SEA                     11\n",
       "AEGEAN SEA                       52\n",
       "ALBANIA                          16\n",
       "ARMENIA                           5\n",
       "AUSTRIA                           3\n",
       "AZERBAIJAN                       30\n",
       "AZORES ISLANDS REGION            13\n",
       "AZORES ISLANDS, PORTUGAL         17\n",
       "AZORES-CAPE ST. VINCENT RIDGE     9\n",
       "BLACK SEA                         6\n",
       "                                 ..\n",
       "URAL MOUNTAINS REGION, RUSSIA     5\n",
       "WALES, UNITED KINGDOM             1\n",
       "WEST OF GIBRALTAR                 5\n",
       "WESTERN AFGHANISTAN               4\n",
       "WESTERN IRAN                     58\n",
       "WESTERN MEDITERRANEAN SEA         3\n",
       "WESTERN SAHARA                    1\n",
       "WESTERN SAUDI ARABIA              1\n",
       "WESTERN TURKEY                   99\n",
       "WESTERN UZBEKISTAN                8\n",
       "Name: leto, dtype: int64"
      ]
     },
     "execution_count": 13,
     "metadata": {},
     "output_type": "execute_result"
    }
   ],
   "source": [
    "#združi vse potrese, ki so se zgodili v isti državi\n",
    "potres_drzava=potres.groupby('drzava')\n",
    "#vrne tabelo s preštetimi lastnostmi (število potresov v drzavi)\n",
    "steviloD=potres_drzava.count()\n",
    "#posebni stolpec za drzavo\n",
    "steviloD['leto']"
   ]
  },
  {
   "cell_type": "code",
   "execution_count": 14,
   "metadata": {
    "collapsed": false
   },
   "outputs": [
    {
     "data": {
      "text/plain": [
       "drzava\n",
       "SOUTHERN IRAN    404\n",
       "Name: leto, dtype: int64"
      ]
     },
     "execution_count": 14,
     "metadata": {},
     "output_type": "execute_result"
    }
   ],
   "source": [
    "#drzave razporejene od najmanjše do največje\n",
    "urejenoDR=steviloD.sort_values('magnituda')\n",
    "#vrne zadnjega v tabeli\n",
    "st_drzava=urejenoDR.tail(1)\n",
    "#posebni stolpec za drzavo\n",
    "st_drzava['leto']"
   ]
  },
  {
   "cell_type": "markdown",
   "metadata": {},
   "source": [
    "v Iranu je bilo največ potresov "
   ]
  },
  {
   "cell_type": "code",
   "execution_count": 15,
   "metadata": {
    "collapsed": false
   },
   "outputs": [
    {
     "data": {
      "text/plain": [
       "drzava\n",
       "ADRIATIC SEA                     4.354545\n",
       "AEGEAN SEA                       4.371154\n",
       "ALBANIA                          4.406250\n",
       "ARMENIA                          4.020000\n",
       "AUSTRIA                          4.266667\n",
       "AZERBAIJAN                       4.410000\n",
       "AZORES ISLANDS REGION            4.730769\n",
       "AZORES ISLANDS, PORTUGAL         4.394118\n",
       "AZORES-CAPE ST. VINCENT RIDGE    4.388889\n",
       "BLACK SEA                        4.400000\n",
       "                                   ...   \n",
       "URAL MOUNTAINS REGION, RUSSIA    4.220000\n",
       "WALES, UNITED KINGDOM            4.000000\n",
       "WEST OF GIBRALTAR                4.200000\n",
       "WESTERN AFGHANISTAN              4.325000\n",
       "WESTERN IRAN                     4.372414\n",
       "WESTERN MEDITERRANEAN SEA        4.433333\n",
       "WESTERN SAHARA                   4.000000\n",
       "WESTERN SAUDI ARABIA             4.400000\n",
       "WESTERN TURKEY                   4.311111\n",
       "WESTERN UZBEKISTAN               4.500000\n",
       "Name: magnituda, dtype: float64"
      ]
     },
     "execution_count": 15,
     "metadata": {},
     "output_type": "execute_result"
    }
   ],
   "source": [
    "#združi vse potrese, ki so bili v isti državi\n",
    "potres_drzava=potres.groupby('drzava')\n",
    "#vrne povprečno magnitudo na drzavo\n",
    "potres_drzava['magnituda'].mean()"
   ]
  },
  {
   "cell_type": "code",
   "execution_count": 16,
   "metadata": {
    "collapsed": false
   },
   "outputs": [
    {
     "data": {
      "text/plain": [
       "<matplotlib.axes._subplots.AxesSubplot at 0x6539330>"
      ]
     },
     "execution_count": 16,
     "metadata": {},
     "output_type": "execute_result"
    },
    {
     "data": {
      "image/png": "[encoded data removed]",
      "text/plain": [
       "<matplotlib.figure.Figure at 0x6652db0>"
      ]
     },
     "metadata": {},
     "output_type": "display_data"
    }
   ],
   "source": [
    "#vrne graf s povprečjem magnitud na državo\n",
    "drzave=potres_drzava['magnituda'].mean()\n",
    "drzave.plot(figsize=(20,3))"
   ]
  },
  {
   "cell_type": "code",
   "execution_count": 17,
   "metadata": {
    "collapsed": false
   },
   "outputs": [
    {
     "data": {
      "text/plain": [
       "drzava\n",
       "TYRRHENIAN SEA    5.8\n",
       "Name: magnituda, dtype: float64"
      ]
     },
     "execution_count": 17,
     "metadata": {},
     "output_type": "execute_result"
    }
   ],
   "source": [
    "#združi vse potrese, ki so bili v isti državi\n",
    "potres_drzava=potres.groupby('drzava')\n",
    "#vrne povprečno magnitudo na drzavo\n",
    "pMAG=potres_drzava['magnituda'].mean()\n",
    "#drzave razporejene od najmanjše do največje\n",
    "urejenoMAG=pMAG.sort_values()\n",
    "#vrne zadnjega v tabeli\n",
    "urejenoMAG.tail(1)"
   ]
  },
  {
   "cell_type": "markdown",
   "metadata": {},
   "source": [
    "Sledi, da so na Tirenskem morju v povprečju najmočnejši potresi"
   ]
  },
  {
   "cell_type": "code",
   "execution_count": 18,
   "metadata": {
    "collapsed": false
   },
   "outputs": [
    {
     "data": {
      "text/html": [
       "<div>\n",
       "<table border=\"1\" class=\"dataframe\">\n",
       "  <thead>\n",
       "    <tr style=\"text-align: right;\">\n",
       "      <th></th>\n",
       "      <th>magnituda</th>\n",
       "      <th>globina</th>\n",
       "    </tr>\n",
       "    <tr>\n",
       "      <th>drzava</th>\n",
       "      <th></th>\n",
       "      <th></th>\n",
       "    </tr>\n",
       "  </thead>\n",
       "  <tbody>\n",
       "    <tr>\n",
       "      <th>AZORES ISLANDS REGION</th>\n",
       "      <td>4.730769</td>\n",
       "      <td>8.461538</td>\n",
       "    </tr>\n",
       "    <tr>\n",
       "      <th>CARLSBERG RIDGE</th>\n",
       "      <td>4.850000</td>\n",
       "      <td>25.000000</td>\n",
       "    </tr>\n",
       "    <tr>\n",
       "      <th>EASTERN GREENLAND</th>\n",
       "      <td>4.600000</td>\n",
       "      <td>22.000000</td>\n",
       "    </tr>\n",
       "    <tr>\n",
       "      <th>EGYPT</th>\n",
       "      <td>4.666667</td>\n",
       "      <td>8.222222</td>\n",
       "    </tr>\n",
       "    <tr>\n",
       "      <th>GOLFE DE TADJOURA, DJIBOUTI</th>\n",
       "      <td>4.650000</td>\n",
       "      <td>3.500000</td>\n",
       "    </tr>\n",
       "    <tr>\n",
       "      <th>GREENLAND SEA</th>\n",
       "      <td>4.657692</td>\n",
       "      <td>3.884615</td>\n",
       "    </tr>\n",
       "    <tr>\n",
       "      <th>GULF OF ADEN</th>\n",
       "      <td>4.684444</td>\n",
       "      <td>9.911111</td>\n",
       "    </tr>\n",
       "    <tr>\n",
       "      <th>IRAN-PAKISTAN BORDER REGION</th>\n",
       "      <td>4.788235</td>\n",
       "      <td>56.647059</td>\n",
       "    </tr>\n",
       "    <tr>\n",
       "      <th>NORTHERN MID-ATLANTIC RIDGE</th>\n",
       "      <td>4.680000</td>\n",
       "      <td>10.566667</td>\n",
       "    </tr>\n",
       "    <tr>\n",
       "      <th>OFF COAST OF PAKISTAN</th>\n",
       "      <td>4.750000</td>\n",
       "      <td>7.333333</td>\n",
       "    </tr>\n",
       "    <tr>\n",
       "      <th>OWEN FRACTURE ZONE REGION</th>\n",
       "      <td>4.771429</td>\n",
       "      <td>9.122449</td>\n",
       "    </tr>\n",
       "    <tr>\n",
       "      <th>REYKJANES RIDGE</th>\n",
       "      <td>4.700000</td>\n",
       "      <td>10.000000</td>\n",
       "    </tr>\n",
       "    <tr>\n",
       "      <th>SOUTHWESTERN PAKISTAN</th>\n",
       "      <td>4.618182</td>\n",
       "      <td>24.818182</td>\n",
       "    </tr>\n",
       "    <tr>\n",
       "      <th>STRAIT OF HORMUZ</th>\n",
       "      <td>4.666667</td>\n",
       "      <td>11.666667</td>\n",
       "    </tr>\n",
       "    <tr>\n",
       "      <th>SVALBARD REGION</th>\n",
       "      <td>4.608333</td>\n",
       "      <td>6.666667</td>\n",
       "    </tr>\n",
       "    <tr>\n",
       "      <th>TYRRHENIAN SEA</th>\n",
       "      <td>5.800000</td>\n",
       "      <td>449.000000</td>\n",
       "    </tr>\n",
       "    <tr>\n",
       "      <th>UKRAINE</th>\n",
       "      <td>4.666667</td>\n",
       "      <td>7.333333</td>\n",
       "    </tr>\n",
       "  </tbody>\n",
       "</table>\n",
       "</div>"
      ],
      "text/plain": [
       "                             magnituda     globina\n",
       "drzava                                            \n",
       "AZORES ISLANDS REGION         4.730769    8.461538\n",
       "CARLSBERG RIDGE               4.850000   25.000000\n",
       "EASTERN GREENLAND             4.600000   22.000000\n",
       "EGYPT                         4.666667    8.222222\n",
       "GOLFE DE TADJOURA, DJIBOUTI   4.650000    3.500000\n",
       "GREENLAND SEA                 4.657692    3.884615\n",
       "GULF OF ADEN                  4.684444    9.911111\n",
       "IRAN-PAKISTAN BORDER REGION   4.788235   56.647059\n",
       "NORTHERN MID-ATLANTIC RIDGE   4.680000   10.566667\n",
       "OFF COAST OF PAKISTAN         4.750000    7.333333\n",
       "OWEN FRACTURE ZONE REGION     4.771429    9.122449\n",
       "REYKJANES RIDGE               4.700000   10.000000\n",
       "SOUTHWESTERN PAKISTAN         4.618182   24.818182\n",
       "STRAIT OF HORMUZ              4.666667   11.666667\n",
       "SVALBARD REGION               4.608333    6.666667\n",
       "TYRRHENIAN SEA                5.800000  449.000000\n",
       "UKRAINE                       4.666667    7.333333"
      ]
     },
     "execution_count": 18,
     "metadata": {},
     "output_type": "execute_result"
    }
   ],
   "source": [
    "#združi vse potrese, ki so bili v isti državi\n",
    "potres_drzava=potres.groupby('drzava')\n",
    "#vrne povprečno magnitudo in globino\n",
    "pMG=potres_drzava['magnituda', 'globina'].mean()\n",
    "#vrne tabelo s potresi, ki imajo v povprečju magnitudo višjo ali enako od 4.6\n",
    "pMG[pMG.magnituda>=4.6]\n",
    "#\n",
    "#primerjava med povprečno magnitudo in povprečno globino"
   ]
  },
  {
   "cell_type": "code",
   "execution_count": 22,
   "metadata": {
    "collapsed": false
   },
   "outputs": [
    {
     "data": {
      "text/plain": [
       "drzava\n",
       "NEAR THE COAST OF NORTHERN IRAN       2.000000\n",
       "SOUTHERN ALGERIA                      2.000000\n",
       "TURKEY-SYRIA-IRAQ BORDER REGION       2.333333\n",
       "BULGARIA                              2.800000\n",
       "LIECHTENSTEIN                         3.000000\n",
       "GOLFE DE TADJOURA, DJIBOUTI           3.500000\n",
       "SERBIA                                3.500000\n",
       "TURKEY-IRAN BORDER REGION             3.750000\n",
       "GREENLAND SEA                         3.884615\n",
       "POLAND                                3.954545\n",
       "                                       ...    \n",
       "CASPIAN SEA, OFFSHORE AZERBAIJAN     44.700000\n",
       "DODECANESE IS.-TURKEY BORDER REG     47.521739\n",
       "DODECANESE ISLANDS, GREECE           49.804878\n",
       "IRAN-PAKISTAN BORDER REGION          56.647059\n",
       "SICILY, ITALY                        72.045455\n",
       "NORTH ATLANTIC OCEAN                 91.000000\n",
       "ROMANIA                              97.625000\n",
       "KOSOVO-SERBIA-FYROM BORDER REG.     124.333333\n",
       "SOUTHERN ITALY                      128.916667\n",
       "TYRRHENIAN SEA                      449.000000\n",
       "Name: globina, dtype: float64"
      ]
     },
     "execution_count": 22,
     "metadata": {},
     "output_type": "execute_result"
    }
   ],
   "source": [
    "#združi vse potrese, ki so bili v isti državi\n",
    "potres_drzava=potres.groupby('drzava')\n",
    "#vrne povprečno globino na drzavo\n",
    "pGL=potres_drzava['globina'].mean()\n",
    "#drzave razporejene od najmanjše do največje\n",
    "pGL.sort_values()"
   ]
  },
  {
   "cell_type": "markdown",
   "metadata": {},
   "source": [
    "na Tirenskem morju je globina izvora potresa v povprečju ponovno najmočnejša (tako kot magnituda)"
   ]
  },
  {
   "cell_type": "code",
   "execution_count": null,
   "metadata": {
    "collapsed": true
   },
   "outputs": [],
   "source": []
  }
 ],
 "metadata": {
  "kernelspec": {
   "display_name": "Python 3",
   "language": "python",
   "name": "python3"
  },
  "language_info": {
   "codemirror_mode": {
    "name": "ipython",
    "version": 3
   },
   "file_extension": ".py",
   "mimetype": "text/x-python",
   "name": "python",
   "nbconvert_exporter": "python",
   "pygments_lexer": "ipython3",
   "version": "3.5.2"
  }
 },
 "nbformat": 4,
 "nbformat_minor": 1
}
